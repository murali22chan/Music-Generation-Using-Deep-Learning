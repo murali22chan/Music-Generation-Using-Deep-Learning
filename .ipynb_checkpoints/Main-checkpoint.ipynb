{
 "cells": [
  {
   "cell_type": "markdown",
   "metadata": {},
   "source": [
    "# Music Generation Using Deep Learning"
   ]
  },
  {
   "cell_type": "code",
   "execution_count": 8,
   "metadata": {},
   "outputs": [],
   "source": [
    "from music21 import *\n",
    "import glob\n",
    "import numpy as np"
   ]
  },
  {
   "cell_type": "markdown",
   "metadata": {},
   "source": [
    "## Loading and Preprocessing Data"
   ]
  },
  {
   "cell_type": "code",
   "execution_count": 9,
   "metadata": {},
   "outputs": [],
   "source": [
    "# loading the MIDI Files\n",
    "\n",
    "    \n",
    "notes = []\n",
    "\n",
    "for file in glob.glob(\"piano_midi/*.mid\"):\n",
    "    midi = converter.parse(file)\n",
    "    notes_to_parse = None\n",
    "    parts = instrument.partitionByInstrument(midi)\n",
    "    if parts: # file has instrument parts\n",
    "        notes_to_parse = parts.parts[0].recurse()\n",
    "    else:\n",
    "        notes_to_parse = midi.flat.notes\n",
    "    for element in notes_to_parse:\n",
    "        if isinstance(element, note.Note):\n",
    "            notes.append(str(element.pitch))\n",
    "        elif isinstance(element, chord.Chord):\n",
    "            notes.append('.'.join(str(n) for n in element.normalOrder))\n",
    "            \n",
    "            \n",
    "\n",
    "    "
   ]
  },
  {
   "cell_type": "code",
   "execution_count": 10,
   "metadata": {},
   "outputs": [
    {
     "data": {
      "text/plain": [
       "57177"
      ]
     },
     "execution_count": 10,
     "metadata": {},
     "output_type": "execute_result"
    }
   ],
   "source": [
    "len(notes)"
   ]
  },
  {
   "cell_type": "code",
   "execution_count": 12,
   "metadata": {},
   "outputs": [],
   "source": [
    "#defining sequence length\n",
    "sequence_len = 100\n"
   ]
  },
  {
   "cell_type": "code",
   "execution_count": 13,
   "metadata": {},
   "outputs": [],
   "source": [
    "#get all the pitches\n",
    "\n",
    "pitches = sorted(set(item for item in notes))"
   ]
  },
  {
   "cell_type": "code",
   "execution_count": 15,
   "metadata": {},
   "outputs": [],
   "source": [
    "#create a integer for every note\n",
    "\n",
    "note_to_int = dict()\n",
    "\n",
    "for note, id in enumerate(pitches):\n",
    "    note_to_int[id] = note\n",
    "    \n",
    "    "
   ]
  },
  {
   "cell_type": "code",
   "execution_count": 16,
   "metadata": {},
   "outputs": [],
   "source": [
    "#creating input and output data\n",
    "\n",
    "X = []\n",
    "y = []\n",
    "\n",
    "#getting the sequence and mapping it with the interger from note_to_int\n",
    "for i in range(len(notes)-sequence_len):\n",
    "    input_seq = notes[i:i+sequence_len]\n",
    "    \n",
    "    output_seq = notes[i+sequence_len]\n",
    "    \n",
    "    #mapping with intgers\n",
    "    X.append([note_to_int[char] for char in input_seq])\n",
    "    y.append(note_to_int[output_seq])"
   ]
  },
  {
   "cell_type": "code",
   "execution_count": 17,
   "metadata": {},
   "outputs": [
    {
     "name": "stdout",
     "output_type": "stream",
     "text": [
      "Length of X\n"
     ]
    },
    {
     "data": {
      "text/plain": [
       "57077"
      ]
     },
     "execution_count": 17,
     "metadata": {},
     "output_type": "execute_result"
    }
   ],
   "source": [
    "print('Length of X')\n",
    "len(X)"
   ]
  },
  {
   "cell_type": "code",
   "execution_count": 18,
   "metadata": {},
   "outputs": [
    {
     "name": "stdout",
     "output_type": "stream",
     "text": [
      "Length of y\n"
     ]
    },
    {
     "data": {
      "text/plain": [
       "57077"
      ]
     },
     "execution_count": 18,
     "metadata": {},
     "output_type": "execute_result"
    }
   ],
   "source": [
    "print('Length of y')\n",
    "len(y)"
   ]
  },
  {
   "cell_type": "code",
   "execution_count": 19,
   "metadata": {},
   "outputs": [
    {
     "data": {
      "text/plain": [
       "100"
      ]
     },
     "execution_count": 19,
     "metadata": {},
     "output_type": "execute_result"
    }
   ],
   "source": [
    "len(X[0])"
   ]
  },
  {
   "cell_type": "code",
   "execution_count": 20,
   "metadata": {},
   "outputs": [],
   "source": [
    "n_size = len(X)"
   ]
  },
  {
   "cell_type": "code",
   "execution_count": 21,
   "metadata": {},
   "outputs": [
    {
     "name": "stderr",
     "output_type": "stream",
     "text": [
      "Using TensorFlow backend.\n"
     ]
    }
   ],
   "source": [
    "#Shaping the data for LSTM\n",
    "from keras.utils import np_utils\n",
    "\n",
    "n_vocab = len(set(notes)) #finding number of unique notes\n",
    "\n",
    "X = np.reshape(X, (n_size, sequence_len, 1))\n",
    "\n",
    "y = np_utils.to_categorical(y) #one hot encoding of the output sequence"
   ]
  },
  {
   "cell_type": "code",
   "execution_count": 22,
   "metadata": {},
   "outputs": [
    {
     "data": {
      "text/plain": [
       "(57077, 100, 1)"
      ]
     },
     "execution_count": 22,
     "metadata": {},
     "output_type": "execute_result"
    }
   ],
   "source": [
    "X.shape"
   ]
  },
  {
   "cell_type": "code",
   "execution_count": 23,
   "metadata": {},
   "outputs": [
    {
     "data": {
      "text/plain": [
       "(57077, 358)"
      ]
     },
     "execution_count": 23,
     "metadata": {},
     "output_type": "execute_result"
    }
   ],
   "source": [
    "y.shape"
   ]
  },
  {
   "cell_type": "code",
   "execution_count": 24,
   "metadata": {},
   "outputs": [
    {
     "data": {
      "text/plain": [
       "100"
      ]
     },
     "execution_count": 24,
     "metadata": {},
     "output_type": "execute_result"
    }
   ],
   "source": [
    "X.shape[1]"
   ]
  },
  {
   "cell_type": "code",
   "execution_count": 25,
   "metadata": {},
   "outputs": [
    {
     "data": {
      "text/plain": [
       "358"
      ]
     },
     "execution_count": 25,
     "metadata": {},
     "output_type": "execute_result"
    }
   ],
   "source": [
    "n_vocab"
   ]
  },
  {
   "cell_type": "code",
   "execution_count": 26,
   "metadata": {
    "scrolled": true
   },
   "outputs": [
    {
     "data": {
      "text/plain": [
       "array([[[0.46927374],\n",
       "        [0.91899441],\n",
       "        [0.46927374],\n",
       "        ...,\n",
       "        [0.98603352],\n",
       "        [0.82681564],\n",
       "        [0.90502793]],\n",
       "\n",
       "       [[0.91899441],\n",
       "        [0.46927374],\n",
       "        [0.46927374],\n",
       "        ...,\n",
       "        [0.82681564],\n",
       "        [0.90502793],\n",
       "        [0.12290503]],\n",
       "\n",
       "       [[0.46927374],\n",
       "        [0.46927374],\n",
       "        [0.46927374],\n",
       "        ...,\n",
       "        [0.90502793],\n",
       "        [0.12290503],\n",
       "        [0.96927374]],\n",
       "\n",
       "       ...,\n",
       "\n",
       "       [[0.32402235],\n",
       "        [0.32122905],\n",
       "        [0.44413408],\n",
       "        ...,\n",
       "        [0.17597765],\n",
       "        [0.98882682],\n",
       "        [0.04748603]],\n",
       "\n",
       "       [[0.32122905],\n",
       "        [0.44413408],\n",
       "        [0.76536313],\n",
       "        ...,\n",
       "        [0.98882682],\n",
       "        [0.04748603],\n",
       "        [0.88547486]],\n",
       "\n",
       "       [[0.44413408],\n",
       "        [0.76536313],\n",
       "        [0.92178771],\n",
       "        ...,\n",
       "        [0.04748603],\n",
       "        [0.88547486],\n",
       "        [0.32122905]]])"
      ]
     },
     "execution_count": 26,
     "metadata": {},
     "output_type": "execute_result"
    }
   ],
   "source": [
    "#Normalizing Inputs\n",
    "\n",
    "X = X / float(n_vocab)\n",
    "X"
   ]
  },
  {
   "cell_type": "markdown",
   "metadata": {},
   "source": [
    "## Model Building and Training"
   ]
  },
  {
   "cell_type": "code",
   "execution_count": 27,
   "metadata": {},
   "outputs": [],
   "source": [
    "#Defining the model\n",
    "\n",
    "import tensorflow as tf\n",
    "from keras.models import Sequential\n",
    "from keras.layers import Dense, Dropout,LSTM,Activation,BatchNormalization\n",
    "from keras.callbacks import ModelCheckpoint"
   ]
  },
  {
   "cell_type": "code",
   "execution_count": 28,
   "metadata": {},
   "outputs": [],
   "source": [
    "model = Sequential()\n",
    "model.add(LSTM(256,input_shape=(sequence_len, 1),return_sequences=True))\n",
    "model.add(Dropout(0.3))\n",
    "model.add(LSTM(512, return_sequences = True))\n",
    "model.add(Dropout(0.3))\n",
    "model.add(LSTM(256))\n",
    "model.add(Dense(256))\n",
    "model.add(Dropout(0.3))\n",
    "model.add(Dense(n_vocab))\n",
    "model.add(Activation('softmax'))\n",
    "    "
   ]
  },
  {
   "cell_type": "code",
   "execution_count": 29,
   "metadata": {},
   "outputs": [],
   "source": [
    "model.compile(loss='categorical_crossentropy',optimizer = 'adam', metrics = ['acc'])"
   ]
  },
  {
   "cell_type": "code",
   "execution_count": 30,
   "metadata": {},
   "outputs": [
    {
     "name": "stdout",
     "output_type": "stream",
     "text": [
      "Model: \"sequential_1\"\n",
      "_________________________________________________________________\n",
      "Layer (type)                 Output Shape              Param #   \n",
      "=================================================================\n",
      "lstm_1 (LSTM)                (None, 100, 256)          264192    \n",
      "_________________________________________________________________\n",
      "dropout_1 (Dropout)          (None, 100, 256)          0         \n",
      "_________________________________________________________________\n",
      "lstm_2 (LSTM)                (None, 100, 512)          1574912   \n",
      "_________________________________________________________________\n",
      "dropout_2 (Dropout)          (None, 100, 512)          0         \n",
      "_________________________________________________________________\n",
      "lstm_3 (LSTM)                (None, 256)               787456    \n",
      "_________________________________________________________________\n",
      "dense_1 (Dense)              (None, 256)               65792     \n",
      "_________________________________________________________________\n",
      "dropout_3 (Dropout)          (None, 256)               0         \n",
      "_________________________________________________________________\n",
      "dense_2 (Dense)              (None, 358)               92006     \n",
      "_________________________________________________________________\n",
      "activation_1 (Activation)    (None, 358)               0         \n",
      "=================================================================\n",
      "Total params: 2,784,358\n",
      "Trainable params: 2,784,358\n",
      "Non-trainable params: 0\n",
      "_________________________________________________________________\n"
     ]
    }
   ],
   "source": [
    "model.summary()"
   ]
  },
  {
   "cell_type": "code",
   "execution_count": 31,
   "metadata": {},
   "outputs": [],
   "source": [
    "#creating callback to get the best model\n",
    "\n",
    "filepath = \"model-{epoch:02d}-{loss:.4f}.h5\"    \n",
    "checkpoint = ModelCheckpoint(\n",
    "    filepath, monitor='loss', \n",
    "    verbose=0,        \n",
    "    save_best_only=True,        \n",
    "    mode='min'\n",
    ")    \n",
    "callback = [checkpoint]"
   ]
  },
  {
   "cell_type": "code",
   "execution_count": 1,
   "metadata": {},
   "outputs": [],
   "source": [
    "#training the model\n",
    "model.fit(X, y, epochs = 100, batch_size = 64, callbacks = callback)"
   ]
  },
  {
   "cell_type": "code",
   "execution_count": 32,
   "metadata": {},
   "outputs": [],
   "source": [
    "from tensorflow.keras import models"
   ]
  },
  {
   "cell_type": "markdown",
   "metadata": {},
   "source": [
    "## Predicting and Saving the Output From The Model"
   ]
  },
  {
   "cell_type": "code",
   "execution_count": 33,
   "metadata": {},
   "outputs": [],
   "source": [
    "model = models.load_model('models/model.h5')"
   ]
  },
  {
   "cell_type": "code",
   "execution_count": 35,
   "metadata": {},
   "outputs": [],
   "source": [
    "start = np.random.randint(0, len(X)-1) #select a random positon to start"
   ]
  },
  {
   "cell_type": "code",
   "execution_count": 37,
   "metadata": {},
   "outputs": [
    {
     "data": {
      "text/plain": [
       "33426"
      ]
     },
     "execution_count": 37,
     "metadata": {},
     "output_type": "execute_result"
    }
   ],
   "source": [
    "start"
   ]
  },
  {
   "cell_type": "code",
   "execution_count": 40,
   "metadata": {},
   "outputs": [],
   "source": [
    "#Loopup table to decode the output\n",
    "\n",
    "int_to_note = dict()\n",
    "\n",
    "for note, id in enumerate(pitches):\n",
    "    int_to_note[note] = id\n"
   ]
  },
  {
   "cell_type": "code",
   "execution_count": 43,
   "metadata": {},
   "outputs": [
    {
     "data": {
      "text/plain": [
       "array([[0.76536313],\n",
       "       [0.88268156],\n",
       "       [0.98603352],\n",
       "       [0.74022346],\n",
       "       [0.91899441],\n",
       "       [0.86592179],\n",
       "       [0.23743017],\n",
       "       [0.82402235],\n",
       "       [0.82681564],\n",
       "       [0.82681564],\n",
       "       [0.46089385],\n",
       "       [0.82402235],\n",
       "       [0.82681564],\n",
       "       [0.82681564],\n",
       "       [0.58659218],\n",
       "       [0.82402235],\n",
       "       [0.82681564],\n",
       "       [0.82681564],\n",
       "       [0.20949721],\n",
       "       [0.82402235],\n",
       "       [0.82681564],\n",
       "       [0.82681564],\n",
       "       [0.23743017],\n",
       "       [0.82402235],\n",
       "       [0.82681564],\n",
       "       [0.82402235],\n",
       "       [0.82681564],\n",
       "       [0.23743017],\n",
       "       [0.82402235],\n",
       "       [0.82681564],\n",
       "       [0.82681564],\n",
       "       [0.46089385],\n",
       "       [0.82402235],\n",
       "       [0.82681564],\n",
       "       [0.82681564],\n",
       "       [0.58659218],\n",
       "       [0.82402235],\n",
       "       [0.82681564],\n",
       "       [0.82681564],\n",
       "       [0.70670391],\n",
       "       [0.82402235],\n",
       "       [0.82681564],\n",
       "       [0.82681564],\n",
       "       [0.5698324 ],\n",
       "       [0.82402235],\n",
       "       [0.93575419],\n",
       "       [0.20949721],\n",
       "       [0.91899441],\n",
       "       [0.79050279],\n",
       "       [0.23743017],\n",
       "       [0.82402235],\n",
       "       [0.82681564],\n",
       "       [0.82681564],\n",
       "       [0.46089385],\n",
       "       [0.82402235],\n",
       "       [0.82681564],\n",
       "       [0.82681564],\n",
       "       [0.58659218],\n",
       "       [0.82402235],\n",
       "       [0.82681564],\n",
       "       [0.82681564],\n",
       "       [0.20949721],\n",
       "       [0.82402235],\n",
       "       [0.82681564],\n",
       "       [0.82681564],\n",
       "       [0.23743017],\n",
       "       [0.82402235],\n",
       "       [0.82681564],\n",
       "       [0.82402235],\n",
       "       [0.82681564],\n",
       "       [0.23743017],\n",
       "       [0.82402235],\n",
       "       [0.82681564],\n",
       "       [0.82681564],\n",
       "       [0.46089385],\n",
       "       [0.82402235],\n",
       "       [0.82681564],\n",
       "       [0.82681564],\n",
       "       [0.58659218],\n",
       "       [0.82402235],\n",
       "       [0.82681564],\n",
       "       [0.82681564],\n",
       "       [0.70670391],\n",
       "       [0.82402235],\n",
       "       [0.82681564],\n",
       "       [0.82681564],\n",
       "       [0.42458101],\n",
       "       [0.91899441],\n",
       "       [0.92178771],\n",
       "       [0.74581006],\n",
       "       [0.88268156],\n",
       "       [0.88547486],\n",
       "       [0.31564246],\n",
       "       [0.86312849],\n",
       "       [0.86592179],\n",
       "       [0.43296089],\n",
       "       [0.82681564],\n",
       "       [0.82960894],\n",
       "       [0.79888268],\n",
       "       [0.74022346]])"
      ]
     },
     "execution_count": 43,
     "metadata": {},
     "output_type": "execute_result"
    }
   ],
   "source": [
    "X[start]"
   ]
  },
  {
   "cell_type": "code",
   "execution_count": 104,
   "metadata": {},
   "outputs": [],
   "source": [
    "stream = X[start]#Selecting a random note from the input\n",
    " \n",
    "predictions=[]\n",
    "for i in range(100):\n",
    "\n",
    "    stream = stream.reshape(1,100,1)#Reshaping according to model (1, sequence_length, 1)\n",
    "\n",
    "    model_predict  = model.predict(stream)[0]\n",
    "    y_pred= np.argmax(model_predict, axis=0) #Selecting the note with max probabilty\n",
    "    predictions.append(y_pred)\n",
    "\n",
    "    stream = np.insert(stream[0],len(stream[0]),y_pred) #Adding the output note to the input stream\n",
    "    stream = stream[1:] #deleting the first note in the input stream\n",
    "    "
   ]
  },
  {
   "cell_type": "code",
   "execution_count": 92,
   "metadata": {},
   "outputs": [],
   "source": [
    "#convert the output to notes from lookup dictionary\n",
    "\n",
    "predicted_notes = [int_to_note[i] for i in predictions]"
   ]
  },
  {
   "cell_type": "code",
   "execution_count": 93,
   "metadata": {},
   "outputs": [
    {
     "data": {
      "text/plain": [
       "100"
      ]
     },
     "execution_count": 93,
     "metadata": {},
     "output_type": "execute_result"
    }
   ],
   "source": [
    "len(predicted_notes)"
   ]
  },
  {
   "cell_type": "code",
   "execution_count": 98,
   "metadata": {},
   "outputs": [],
   "source": [
    "from music21 import instrument, note\n",
    "\n",
    "offset = 0 #used to avoid stacking of notes\n",
    "output_notes = []\n",
    "\n",
    "\n",
    "for stream in predicted_notes:\n",
    "    # Check for note or a chord\n",
    "    if ('.' in stream) or stream.isdigit():\n",
    "        notes_in_chord = stream.split('.')\n",
    "        notes = []\n",
    "        for current_note in notes_in_chord:\n",
    "            c_note = int(current_note)\n",
    "            new_note = note.Note(c_note)\n",
    "            new_note.storedInstrument = instrument.Piano()\n",
    "            notes.append(new_note)\n",
    "                \n",
    "        new_chord = chord.Chord(notes)\n",
    "        new_chord.offset = offset\n",
    "        output_notes.append(new_chord)\n",
    "            \n",
    "        \n",
    "    else:\n",
    "        new_note = note.Note(stream)\n",
    "        new_note.offset = offset\n",
    "        new_note.storedInstrument = instrument.Piano()\n",
    "        output_notes.append(new_note)\n",
    "\n",
    "    offset += 0.5 # The data we used for training had a offset of 0.5"
   ]
  },
  {
   "cell_type": "code",
   "execution_count": 101,
   "metadata": {},
   "outputs": [
    {
     "data": {
      "text/plain": [
       "100"
      ]
     },
     "execution_count": 101,
     "metadata": {},
     "output_type": "execute_result"
    }
   ],
   "source": [
    "len(output_notes)"
   ]
  },
  {
   "cell_type": "code",
   "execution_count": 103,
   "metadata": {},
   "outputs": [
    {
     "data": {
      "text/plain": [
       "'example_output.mid'"
      ]
     },
     "execution_count": 103,
     "metadata": {},
     "output_type": "execute_result"
    }
   ],
   "source": [
    "# Save the output as MIDI file\n",
    "from music21 import stream\n",
    "\n",
    "midi_stream = stream.Stream(output_notes)\n",
    "midi_stream.write('midi', fp='sample_outputs/example_output.mid')"
   ]
  },
  {
   "cell_type": "code",
   "execution_count": null,
   "metadata": {},
   "outputs": [],
   "source": []
  }
 ],
 "metadata": {
  "kernelspec": {
   "display_name": "Python 3",
   "language": "python",
   "name": "python3"
  },
  "language_info": {
   "codemirror_mode": {
    "name": "ipython",
    "version": 3
   },
   "file_extension": ".py",
   "mimetype": "text/x-python",
   "name": "python",
   "nbconvert_exporter": "python",
   "pygments_lexer": "ipython3",
   "version": "3.7.6"
  }
 },
 "nbformat": 4,
 "nbformat_minor": 4
}
